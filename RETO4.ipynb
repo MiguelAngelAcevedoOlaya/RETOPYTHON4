{
  "nbformat": 4,
  "nbformat_minor": 0,
  "metadata": {
    "colab": {
      "provenance": []
    },
    "kernelspec": {
      "name": "python3",
      "display_name": "Python 3"
    },
    "language_info": {
      "name": "python"
    }
  },
  "cells": [
    {
      "cell_type": "markdown",
      "source": [
        "##Resolver los siguientes problemas usando un notebook de python y subirlos a un repo.\n",
        "\n",
        "* Dado un número entero, determinar si ese número corresponde al código ASCII de una vocal minúscula.\n",
        "\n",
        "* Dada una cadena de longitud 1, determine si el código ASCII de primera letra de la cadena es par o no.\n",
        "\n",
        "* Dado un carácter, construya un programa en Python para determinar si el carácter es un dígito o no.\n",
        "\n",
        "* Dado un número real x, construya un programa que permita determinar si el número es positivo, negativo o cero. Para cada caso de debe imprimir el texto que se especifica a continuación:\n",
        "  * Positivo: \"El número x es positivo\"\n",
        "  * Negativo: \"El número x es negativo\"\n",
        "  * Cero (0): \"El número x es el neutro para la suma\"\n",
        "\n",
        "* Dado el centro y el radio de un círculo, determinar si un punto de R2 pertenece o no al interior del círculo.\n",
        "\n",
        "* Dadas tres longitudes positivas, determinar si con esas longitudes se puede construir un triángulo."
      ],
      "metadata": {
        "id": "QOFkPh4ARJOj"
      }
    },
    {
      "cell_type": "markdown",
      "source": [
        "###PUNTO 1\n",
        "Dado un número entero, determinar si ese número corresponde al código ASCII de una vocal minúscula.\n",
        "\n",
        "Primero revisamos en que números del código ASCII hay minusculas\n",
        "\n",
        "* 97=a\n",
        "* 101=e\n",
        "* 105=i\n",
        "* 111=o\n",
        "* 117=u\n",
        "* 129 <= a <= 134\n",
        "* 136 <= a <= 141\n",
        "* 147 <= a <= 151\n",
        "* 160 <= a <= 163\n",
        "\n",
        "ahora se le pide al usuario que ingrese un  numero aleatorio"
      ],
      "metadata": {
        "id": "k4Z7dpHzRb1K"
      }
    },
    {
      "cell_type": "code",
      "execution_count": null,
      "metadata": {
        "colab": {
          "base_uri": "https://localhost:8080/"
        },
        "id": "d25n-vr5RBMj",
        "outputId": "6e32f5e3-3a68-4f85-8b92-4ad6022561ba"
      },
      "outputs": [
        {
          "name": "stdout",
          "output_type": "stream",
          "text": [
            "Elige un numero preferiblemente entre 1 y 255 = 13\n"
          ]
        }
      ],
      "source": [
        "\n",
        "numero_ASCII = int(input(\"Elige un numero preferiblemente entre 1 y 255 = \"))"
      ]
    },
    {
      "cell_type": "markdown",
      "source": [
        "Como segundo paso se utiliza un condicioal if en el que si el numero esta entre los rangos establecidos en la lista anterior, sea una vocal minuscula, y en caso tal que no, se imprima que no lo es"
      ],
      "metadata": {
        "id": "yLD0nubtA5-H"
      }
    },
    {
      "cell_type": "code",
      "source": [
        "if numero_ASCII == 97:\n",
        "  print(\"Corresponde a una vocal minúscula\")\n",
        "elif numero_ASCII == 101:\n",
        "  print(\"Corresponde a una vocal minúscula\")\n",
        "elif numero_ASCII == 105:\n",
        "  print(\"Corresponde a una vocal minúscula\")\n",
        "elif numero_ASCII == 111:\n",
        "  print(\"Corresponde a una vocal minúscula\")\n",
        "elif numero_ASCII == 117:\n",
        "  print(\"Corresponde a una vocal minúscula\")\n",
        "elif 129<= numero_ASCII <= 134:\n",
        "  print(\"Corresponde a una vocal minúscula\")\n",
        "elif 136<= numero_ASCII <= 141:\n",
        "  print(\"Corresponde a una vocal minúscula\")\n",
        "elif 147<= numero_ASCII <= 151:\n",
        "  print(\"Corresponde a una vocal minúscula\")\n",
        "elif 160<= numero_ASCII <= 163:\n",
        "  print(\"Corresponde a una vocal minúscula\")\n",
        "else:\n",
        "  print(\"No corresponde a vocal minúscula\")"
      ],
      "metadata": {
        "colab": {
          "base_uri": "https://localhost:8080/"
        },
        "id": "KCfCAuDRTJ0n",
        "outputId": "c8a53ad8-a302-4aa7-d0b2-d3fee885fc3c"
      },
      "execution_count": null,
      "outputs": [
        {
          "output_type": "stream",
          "name": "stdout",
          "text": [
            "No corresponde a vocal minúscula\n"
          ]
        }
      ]
    },
    {
      "cell_type": "markdown",
      "source": [
        "###PUNTO 2\n",
        "\n",
        "Dada una cadena de longitud 1, determine si el código ASCII de primera letra de la cadena es par o no.\n",
        "\n",
        "Para esto primero le pedimos al usuario que ingrese una letra a su eleccion y que imprima la longitud de su cadena para comporar que sea de 1"
      ],
      "metadata": {
        "id": "z10BjfywKo6y"
      }
    },
    {
      "cell_type": "code",
      "source": [
        "palabra = input(\"La letra ingresada es \")\n",
        "print(len(palabra))\n"
      ],
      "metadata": {
        "colab": {
          "base_uri": "https://localhost:8080/"
        },
        "id": "c0f-twikWTyb",
        "outputId": "87d77cf4-43a7-4bf5-c63f-3c182e194995"
      },
      "execution_count": null,
      "outputs": [
        {
          "output_type": "stream",
          "name": "stdout",
          "text": [
            "La letra ingresada es Z\n",
            "1\n"
          ]
        }
      ]
    },
    {
      "cell_type": "markdown",
      "source": [
        "Ahora usamos el codigo ord(), que nos permite imprimir el valor número en codigo ASCII de la letra seleccionada por el usuario"
      ],
      "metadata": {
        "id": "X1yl6X06K296"
      }
    },
    {
      "cell_type": "code",
      "source": [
        "print(ord(palabra))"
      ],
      "metadata": {
        "colab": {
          "base_uri": "https://localhost:8080/"
        },
        "id": "WJXzaJ1eJb0Z",
        "outputId": "86c2f192-4fd5-4e55-a1f1-45f9270aa91b"
      },
      "execution_count": null,
      "outputs": [
        {
          "output_type": "stream",
          "name": "stdout",
          "text": [
            "90\n"
          ]
        }
      ]
    },
    {
      "cell_type": "markdown",
      "source": [
        "Definimos número par como el ord(palabra)"
      ],
      "metadata": {
        "id": "-4zT6GqJLBga"
      }
    },
    {
      "cell_type": "code",
      "source": [
        "numero_par= ord(palabra)"
      ],
      "metadata": {
        "id": "mmWIG6_-J59N"
      },
      "execution_count": null,
      "outputs": []
    },
    {
      "cell_type": "markdown",
      "source": [
        "Ponemos un codigo de tipo condicional en el que si el residuo del numero al dividirlo entre 2 es 0, la letra pertenecera a número par en ASCII, y en caso tal que no lo sea, pues no pertencera a los pares"
      ],
      "metadata": {
        "id": "YGpfbwxOLHVB"
      }
    },
    {
      "cell_type": "code",
      "source": [
        "if numero_par % 2 ==0.0:\n",
        "  print(\"La letra \" +str(palabra)+ \" es par en su correspondiente número ASCII\")\n",
        "else:\n",
        "  print(\"La letra \" +str(palabra)+ \" no es par en su correspondiente número ASCII\")"
      ],
      "metadata": {
        "colab": {
          "base_uri": "https://localhost:8080/"
        },
        "id": "y5kvzU-vJJf3",
        "outputId": "73b89aea-7e14-4ab1-c982-77503dbc1376"
      },
      "execution_count": null,
      "outputs": [
        {
          "output_type": "stream",
          "name": "stdout",
          "text": [
            "La letra Z es par en su correspondiente número ASCII\n"
          ]
        }
      ]
    },
    {
      "cell_type": "markdown",
      "source": [
        "###PUNTO 3\n",
        "\n",
        "Dado un carácter, construya un programa en Python para determinar si el carácter es un dígito o no.\n",
        "\n",
        "\n",
        "Primero se le solicita al usuario que ingrese el caracter que guste\n",
        "\n",
        "Ahora utilizaremos el codigo isnumeric, para comprobar si el caracter pertenece a cualquier número, en caso tal que no imprimira que no es un número, en caso tal de que si, definiremos la variable como un entero y le pondremos otra condicional if en el que si el número esta entre 0 y 9 si es un digito, y si no no pertenecera"
      ],
      "metadata": {
        "id": "Kd1df7-mLXmK"
      }
    },
    {
      "cell_type": "code",
      "source": [
        "caracter = input(\"Ingresa un caracter \")\n",
        "y = caracter.isnumeric()\n",
        "if y == caracter.isnumeric():\n",
        "  caracter=int(caracter)\n",
        "  if 0 <= caracter <= 9:\n",
        "    print(str(caracter)+ \" Es un digito\")\n",
        "  else:\n",
        "    print(str(caracter)+ \" No es un digito\")\n",
        "else:\n",
        "  print(\"No es un número\")"
      ],
      "metadata": {
        "colab": {
          "base_uri": "https://localhost:8080/"
        },
        "id": "tLMnSREdNTba",
        "outputId": "ed68db2d-f707-4fb5-9c40-e1e39b649397"
      },
      "execution_count": null,
      "outputs": [
        {
          "output_type": "stream",
          "name": "stdout",
          "text": [
            "Ingresa un caracter 5\n",
            "5 Es un digito\n"
          ]
        }
      ]
    },
    {
      "cell_type": "markdown",
      "source": [
        "\n",
        "###PUNTO 4\n",
        "\n",
        "Dado un número real x, construya un programa que permita determinar si el número es positivo, negativo o cero. Para cada caso de debe imprimir el texto que se especifica a continuación:\n",
        "  * Positivo: \"El número x es positivo\"\n",
        "  * Negativo: \"El número x es negativo\"\n",
        "  * Cero (0): \"El número x es el neutro para la suma\"\n",
        "\n",
        "Primero se le solicita al usuario que ingrese el numero que desee, definiendo esta variable como flotante, osea que permite todos los números reales.\n",
        "\n",
        "Ahora utilizaremos un codigo if else, en el que si el número es mayor que 0 es postivo, y si es menor que 0 sera negativo, en caso de ser neutro pondremos que es nuetro para la suma\n",
        "\n"
      ],
      "metadata": {
        "id": "rS5woxinYLfb"
      }
    },
    {
      "cell_type": "code",
      "source": [
        "numero_4 = float(input(\"El múmero que quieres elegir es \"))\n",
        "if numero_4 > 0:\n",
        "  print(\"El número x es positivo\")\n",
        "elif numero_4 == 0:\n",
        "  print(\"El número x es el neutro para la suma\")\n",
        "elif numero_4 < 0:\n",
        "  print(\"El número x es negativo\")"
      ],
      "metadata": {
        "colab": {
          "base_uri": "https://localhost:8080/"
        },
        "id": "WpO-oQypZImk",
        "outputId": "87dadafc-e432-45e7-a01b-af8975dd75b8"
      },
      "execution_count": null,
      "outputs": [
        {
          "output_type": "stream",
          "name": "stdout",
          "text": [
            "El múmero que quieres elegir es -2\n",
            "El número x es negativo\n"
          ]
        }
      ]
    },
    {
      "cell_type": "markdown",
      "source": [
        "###PUNTO 5\n",
        "\n",
        "Dado el centro y el radio de un círculo, determinar si un punto de R2 pertenece o no al interior del círculo.\n",
        "\n",
        "\n",
        "En primer lugar se le pedira al usuario que ingrese los valores del centro de la circunferencia en x, y, y ademas solicitarle el valor del radio"
      ],
      "metadata": {
        "id": "ufF-Z3EFoLuv"
      }
    },
    {
      "cell_type": "code",
      "source": [
        "x_centro = float(input(\"Ingrese el valor del centro en x \"))\n",
        "y_centro = float(input(\"Ingrese el valor del centro en y \"))\n",
        "r_radio = float(input(\"Ingrese el valor del radio\"))\n"
      ],
      "metadata": {
        "colab": {
          "base_uri": "https://localhost:8080/"
        },
        "id": "0jEQ7ZarpJxT",
        "outputId": "df7a6e19-c499-45aa-f6a1-a59ee1f9930e"
      },
      "execution_count": null,
      "outputs": [
        {
          "name": "stdout",
          "output_type": "stream",
          "text": [
            "Ingrese el valor del centro en x 0\n",
            "Ingrese el valor del centro en y 0\n",
            "Ingrese el valor del radio1\n"
          ]
        }
      ]
    },
    {
      "cell_type": "markdown",
      "source": [
        "Ahora se le solicitar al usuario que ingrese el valor x,y que desea ingresar para confirmar si esta o no dentro del circulo"
      ],
      "metadata": {
        "id": "nR85wkn5s7hg"
      }
    },
    {
      "cell_type": "code",
      "source": [
        "x_eleccion = float(input(\"Ingrese el valor de x \"))\n",
        "y_eleccion = float(input(\"Ingrese el valor de y \"))"
      ],
      "metadata": {
        "colab": {
          "base_uri": "https://localhost:8080/"
        },
        "id": "Kbb5ShHatGUF",
        "outputId": "6fa60bdd-04c3-4f74-9efb-72f161eee258"
      },
      "execution_count": null,
      "outputs": [
        {
          "name": "stdout",
          "output_type": "stream",
          "text": [
            "Ingrese el valor de x 0\n",
            "Ingrese el valor de y 2\n"
          ]
        }
      ]
    },
    {
      "cell_type": "markdown",
      "source": [
        "  Ahora ingresamos la ecuación (x-a)**2 + (y-a)**2 = r**2\n",
        "\n",
        "  si el numero ingresado es menor al radio, entonces esta dentro del circulo, si es mayor estara por fuera, y si es igual entonces estara en el circulo"
      ],
      "metadata": {
        "id": "0MsW1x94tTcg"
      }
    },
    {
      "cell_type": "code",
      "source": [
        "if (x_eleccion - x_centro)**2 + (y_eleccion - y_centro)**2 < r_radio**2:\n",
        "  print(\"El punto \" +str(x_eleccion)+ \",\" +str(y_eleccion)+ \" esta dentro del circulo\")\n",
        "elif (x_eleccion - x_centro)**2 + (y_eleccion - y_centro)**2 == r_radio**2:\n",
        "  print(\"El punto \" +str(x_eleccion)+ \",\" +str(y_eleccion)+ \" esta en el circulo\")\n",
        "else:\n",
        "  print(\"El punto \" +str(x_eleccion)+ \",\" +str(y_eleccion)+ \" esta fuera del circulo\")"
      ],
      "metadata": {
        "colab": {
          "base_uri": "https://localhost:8080/"
        },
        "id": "g8FJHwDYtnT3",
        "outputId": "f0b07925-bfe5-4580-e535-067e1c79dd8f"
      },
      "execution_count": null,
      "outputs": [
        {
          "output_type": "stream",
          "name": "stdout",
          "text": [
            "El punto 0.0,2.0 esta fuera del circulo\n"
          ]
        }
      ]
    },
    {
      "cell_type": "markdown",
      "source": [
        "###PUNTO 6\n",
        "\n",
        "Dadas tres longitudes positivas, determinar si con esas longitudes se puede construir un triángulo.\n",
        "\n",
        "En primer lugar analizamos la teoria que nos dice que en caso tal que la suma de las dos longitudes mas chicas sea mayor que la longitd del lado mayor, si se podra construir un trinagulo.\n",
        "\n",
        "Ahora establecemos un codigo que solicite al usuario ingresar tres longitudes distintas."
      ],
      "metadata": {
        "id": "BbvOTp7Ku0R_"
      }
    },
    {
      "cell_type": "code",
      "source": [
        "l_1 = float(input(\"Longitud 1 es \"))\n",
        "l_2 = float(input(\"Longitud 2 es \"))\n",
        "l_3 = float(input(\"Longitud 3 es \"))"
      ],
      "metadata": {
        "colab": {
          "base_uri": "https://localhost:8080/"
        },
        "id": "L2z1jo0WyK9u",
        "outputId": "88f89941-ce2c-4a99-c250-21b0688eff77"
      },
      "execution_count": null,
      "outputs": [
        {
          "name": "stdout",
          "output_type": "stream",
          "text": [
            "Longitud 1 es 2\n",
            "Longitud 2 es 3\n",
            "Longitud 3 es 4\n"
          ]
        }
      ]
    },
    {
      "cell_type": "markdown",
      "source": [
        "Ahora se establece un condicional siguiendo la teorica en que si L_mayor es < L_menor1 + L_menor2 si se podra construir un trinagulo"
      ],
      "metadata": {
        "id": "rsfiEiXtyYZM"
      }
    },
    {
      "cell_type": "code",
      "source": [
        "if l_1> l_2 and l_1> l_3:\n",
        "  if l_1 < l_2 + l_3:\n",
        "    print(\"Sepuede construir un triangulo\")\n",
        "  else:\n",
        "    print(\"No se puede contruir un trinagulo\")\n",
        "elif l_2> l_1 and l_2> l_3:\n",
        "  if l_2 < l_1 + l_3:\n",
        "    print(\"Sepuede construir un triangulo\")\n",
        "  else:\n",
        "    print(\"No se puede contruir un trinagulo\")\n",
        "elif l_3> l_1 and l_3> l_1:\n",
        "  if l_3 < l_1 + l_2:\n",
        "    print(\"Sepuede construir un triangulo\")\n",
        "  else:\n",
        "    print(\"No se puede contruir un trinagulo\")"
      ],
      "metadata": {
        "colab": {
          "base_uri": "https://localhost:8080/"
        },
        "id": "87LgEVhjylOV",
        "outputId": "f9f37f07-e349-4b67-c9c8-37d51741258b"
      },
      "execution_count": null,
      "outputs": [
        {
          "output_type": "stream",
          "name": "stdout",
          "text": [
            "Sepuede construir un triangulo\n"
          ]
        }
      ]
    }
  ]
}